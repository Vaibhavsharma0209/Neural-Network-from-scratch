{
 "cells": [
  {
   "cell_type": "code",
   "execution_count": 144,
   "metadata": {},
   "outputs": [],
   "source": [
    "import pandas as pd\n",
    "import numpy as np\n",
    "import matplotlib.pyplot as plt\n",
    "import h5py"
   ]
  },
  {
   "cell_type": "code",
   "execution_count": 145,
   "metadata": {},
   "outputs": [
    {
     "name": "stderr",
     "output_type": "stream",
     "text": [
      "c:\\python\\lib\\site-packages\\ipykernel_launcher.py:4: H5pyDeprecationWarning: dataset.value has been deprecated. Use dataset[()] instead.\n",
      "  after removing the cwd from sys.path.\n",
      "c:\\python\\lib\\site-packages\\ipykernel_launcher.py:5: H5pyDeprecationWarning: dataset.value has been deprecated. Use dataset[()] instead.\n",
      "  \"\"\"\n",
      "c:\\python\\lib\\site-packages\\ipykernel_launcher.py:7: H5pyDeprecationWarning: dataset.value has been deprecated. Use dataset[()] instead.\n",
      "  import sys\n",
      "c:\\python\\lib\\site-packages\\ipykernel_launcher.py:8: H5pyDeprecationWarning: dataset.value has been deprecated. Use dataset[()] instead.\n",
      "  \n"
     ]
    }
   ],
   "source": [
    "f = h5py.File('train_catvnoncat.h5', 'r')\n",
    "t = h5py.File('test_catvnoncat.h5', 'r')\n",
    "\n",
    "x = f['train_set_x'].value\n",
    "y = f['train_set_y'].value\n",
    "\n",
    "x_test = t['test_set_x'].value\n",
    "y_test = t['test_set_y'].value"
   ]
  },
  {
   "cell_type": "code",
   "execution_count": 146,
   "metadata": {},
   "outputs": [
    {
     "data": {
      "text/plain": [
       "((209, 64, 64, 3), (209,), (50, 64, 64, 3), (50,))"
      ]
     },
     "execution_count": 146,
     "metadata": {},
     "output_type": "execute_result"
    }
   ],
   "source": [
    "x.shape, y.shape, x_test.shape, y_test.shape"
   ]
  },
  {
   "cell_type": "code",
   "execution_count": 147,
   "metadata": {},
   "outputs": [],
   "source": [
    "x = x.reshape((x.shape[1]*x.shape[2]*x.shape[3],x.shape[0]))\n",
    "x_test = x_test.reshape((x_test.shape[1]*x_test.shape[2]*x_test.shape[3],x_test.shape[0]))\n",
    "y = y.reshape((1,y.shape[0]))\n",
    "y_test = y_test.reshape((1,y_test.shape[0]))"
   ]
  },
  {
   "cell_type": "code",
   "execution_count": 148,
   "metadata": {},
   "outputs": [],
   "source": [
    "x = x/255\n",
    "x_test = x_test/255"
   ]
  },
  {
   "cell_type": "code",
   "execution_count": 149,
   "metadata": {},
   "outputs": [],
   "source": [
    "n_x, n_y = x.shape[0], y.shape[0]"
   ]
  },
  {
   "cell_type": "code",
   "execution_count": 150,
   "metadata": {},
   "outputs": [],
   "source": [
    "layer_dim = [n_x, 64, 32, n_y]"
   ]
  },
  {
   "cell_type": "code",
   "execution_count": 151,
   "metadata": {},
   "outputs": [],
   "source": [
    "def sigmoid(Z):\n",
    "    \n",
    "    A = 1/(1 + np.exp(-Z))\n",
    "    \n",
    "    return A"
   ]
  },
  {
   "cell_type": "code",
   "execution_count": 152,
   "metadata": {},
   "outputs": [],
   "source": [
    "def relu(Z):\n",
    "\n",
    "    A = np.maximum(0,Z)\n",
    "\n",
    "    return A"
   ]
  },
  {
   "cell_type": "code",
   "execution_count": 153,
   "metadata": {},
   "outputs": [],
   "source": [
    "def d_relu(dA, Z):\n",
    "    \n",
    "    dZ = np.array(dA, copy = True)\n",
    "    dZ[Z <= 0 ] = 0\n",
    "    \n",
    "    return dZ"
   ]
  },
  {
   "cell_type": "code",
   "execution_count": 154,
   "metadata": {},
   "outputs": [],
   "source": [
    "def init_parameters(layer_dimensions):\n",
    "    \n",
    "    L = len(layer_dimensions) - 1\n",
    "    parameters = {}\n",
    "    \n",
    "    for l in range(L):\n",
    "        parameters['W' + str(l + 1)] = np.random.randn(layer_dimensions[l + 1], layer_dimensions[l]) * np.sqrt(2/layer_dimensions[l])\n",
    "        parameters['b' + str(l + 1)] = np.zeros((layer_dimensions[l + 1], 1))\n",
    "        \n",
    "    return parameters    "
   ]
  },
  {
   "cell_type": "markdown",
   "metadata": {},
   "source": [
    "p = init_parameters(layer_dim)"
   ]
  },
  {
   "cell_type": "code",
   "execution_count": 155,
   "metadata": {},
   "outputs": [],
   "source": [
    "def forward_propagation(X, parameters):\n",
    "    \n",
    "    W1 = parameters['W1']\n",
    "    W2 = parameters['W2']\n",
    "    W3 = parameters['W3']\n",
    "    b1 = parameters['b1']\n",
    "    b2 = parameters['b2']\n",
    "    b3 = parameters['b3']\n",
    "    \n",
    "    Z1 = np.dot(W1, X) + b1\n",
    "    A1 = relu(Z1)\n",
    "    Z2 = np.dot(W2, A1) + b2\n",
    "    A2 = relu(Z2)\n",
    "    Z3 = np.dot(W3, A2) + b3\n",
    "    A3 = sigmoid(Z3)\n",
    "    \n",
    "    cache = {'Z1':Z1, 'Z2':Z2, 'Z3':Z3,\n",
    "            'A1':A1, 'A2':A2, 'A3':A3}\n",
    "    \n",
    "    return A3, cache"
   ]
  },
  {
   "cell_type": "markdown",
   "metadata": {},
   "source": [
    "a2, cac = forward_propagation(x, p)"
   ]
  },
  {
   "cell_type": "code",
   "execution_count": 192,
   "metadata": {},
   "outputs": [],
   "source": [
    "def compute_cost(Y, A3, parameters, lambd):\n",
    "    \n",
    "    m = Y.shape[1]\n",
    "    W1 = parameters[\"W1\"]\n",
    "    W2 = parameters[\"W2\"]\n",
    "    W3 = parameters[\"W3\"]\n",
    "    \n",
    "    regularized_term = (1/m * lambd/2) * (np.sum(np.square(W1)) + np.sum(np.square(W2)) + np.sum(np.square(W3)))\n",
    "\n",
    "    cost = (-1/m) * np.sum((Y * np.log(A3)) + ((1-Y) * np.log(1-A3))) + regularized_term\n",
    "    \n",
    "    return cost"
   ]
  },
  {
   "cell_type": "markdown",
   "metadata": {},
   "source": [
    "compute_cost(y, a2)"
   ]
  },
  {
   "cell_type": "code",
   "execution_count": 198,
   "metadata": {},
   "outputs": [],
   "source": [
    "def backward_propagation(X, Y, cache, parameters, lambd):\n",
    "   \n",
    "    m = Y.shape[1]\n",
    "    Z1 = cache['Z1']\n",
    "    Z2 = cache['Z2'] \n",
    "    A1 = cache['A1']\n",
    "    A2 = cache['A2']\n",
    "    A3 = cache['A3']\n",
    "    W1 = parameters['W1']\n",
    "    W2 = parameters['W2']\n",
    "    W3 = parameters['W3']\n",
    "       \n",
    "    \n",
    "    \n",
    "    dZ3 = A3 - Y\n",
    "    dW3 = (1/m) * np.dot(dZ3, A2.T) + (lambd * W3/ m)\n",
    "    db3 = (1/m) * np.sum(dZ3, axis = 1, keepdims=True)\n",
    "    \n",
    "    dA2 = np.dot(W3.T, dZ3)\n",
    "    dZ2 = d_relu(dA2, Z2)\n",
    "    dW2 = (1/m) * np.dot(dZ2, A1.T) + (lambd * W2/ m)\n",
    "    db2 = (1/m) * np.sum(dZ2, axis = 1, keepdims=True) \n",
    "    \n",
    "    dA1 = np.dot(W2.T, dZ2)\n",
    "    dZ1 = d_relu(dA1, Z1)\n",
    "    dW1 = (1/m) * np.dot(dZ1, X.T) + (lambd * W1/ m)\n",
    "    db1 = (1/m) * np.sum(dZ1, axis = 1, keepdims=True)    \n",
    "    \n",
    "    grads = {'dW1' : dW1, 'dW2' : dW2, 'dW3' : dW3, 'db1' : db1, 'db2' : db2, 'db3' : db3}\n",
    "    \n",
    "    return grads"
   ]
  },
  {
   "cell_type": "markdown",
   "metadata": {},
   "source": [
    "g = backward_propagation(x, y, cac, p)"
   ]
  },
  {
   "cell_type": "code",
   "execution_count": 199,
   "metadata": {},
   "outputs": [],
   "source": [
    "def update_parameters(parameters, grads, learning_rate):\n",
    "    \n",
    "    L = len(parameters)//2 \n",
    "    for l in range(L):\n",
    "        parameters['W' + str(l+1)] -= (learning_rate *  grads['dW' + str(l+1)])\n",
    "        parameters['b' + str(l+1)] -= (learning_rate *  grads['db' + str(l+1)])\n",
    "                \n",
    "            \n",
    "    return parameters"
   ]
  },
  {
   "cell_type": "markdown",
   "metadata": {},
   "source": [
    "par = update_parameters(p, g, 0.01)"
   ]
  },
  {
   "cell_type": "code",
   "execution_count": 200,
   "metadata": {},
   "outputs": [],
   "source": [
    "def model(X, Y, layer_dimensions, learning_rate, iterations, lambd):\n",
    "    \n",
    "    np.random.seed(42)\n",
    "    costs = []\n",
    "    parameters = init_parameters(layer_dimensions)\n",
    "    \n",
    "    for i in range(iterations):\n",
    "        A3, cache = forward_propagation(X, parameters)\n",
    "        cost = compute_cost(Y, A3, parameters, lambd)\n",
    "        grads = backward_propagation(X, Y, cache, parameters, lambd)\n",
    "        parameters = update_parameters(parameters, grads, learning_rate)\n",
    "        \n",
    "        if i % 100 == 0:\n",
    "            print(f'Iteration {i}: {cost}')\n",
    "         \n",
    "        costs.append(cost)\n",
    "         \n",
    "    plt.plot(costs)\n",
    "    \n",
    "    return parameters"
   ]
  },
  {
   "cell_type": "code",
   "execution_count": 225,
   "metadata": {
    "scrolled": true
   },
   "outputs": [
    {
     "name": "stdout",
     "output_type": "stream",
     "text": [
      "Iteration 0: 1.1179847618117582\n",
      "Iteration 100: 0.9366731944871696\n",
      "Iteration 200: 0.8915670055109911\n",
      "Iteration 300: 0.8809373755999206\n",
      "Iteration 400: 0.8328690975096522\n",
      "Iteration 500: 0.8021528679876858\n",
      "Iteration 600: 0.7796173710966312\n",
      "Iteration 700: 0.7685420553467845\n",
      "Iteration 800: 0.7550347307379821\n",
      "Iteration 900: 0.7488321187085634\n",
      "Iteration 1000: 0.7054904634917261\n",
      "Iteration 1100: 0.6760813868745454\n",
      "Iteration 1200: 0.6520240117974452\n",
      "Iteration 1300: 0.6419411257874703\n",
      "Iteration 1400: 0.6098852858588089\n",
      "Iteration 1500: 0.5808148835798452\n",
      "Iteration 1600: 0.5723726719889134\n",
      "Iteration 1700: 0.578666343983866\n",
      "Iteration 1800: 0.5460852704516462\n",
      "Iteration 1900: 0.5493022224179541\n",
      "Iteration 2000: 0.5012588399386237\n",
      "Iteration 2100: 0.7383288328671185\n",
      "Iteration 2200: 0.5499391311635364\n",
      "Iteration 2300: 0.471519090777448\n",
      "Iteration 2400: 0.467571922519091\n",
      "Iteration 2500: 0.46188088238790864\n",
      "Iteration 2600: 0.46678218693434087\n",
      "Iteration 2700: 0.45894101890048744\n"
     ]
    },
    {
     "ename": "KeyboardInterrupt",
     "evalue": "",
     "output_type": "error",
     "traceback": [
      "\u001b[1;31m---------------------------------------------------------------------------\u001b[0m",
      "\u001b[1;31mKeyboardInterrupt\u001b[0m                         Traceback (most recent call last)",
      "\u001b[1;32m<ipython-input-225-8dfe767be3fa>\u001b[0m in \u001b[0;36m<module>\u001b[1;34m\u001b[0m\n\u001b[1;32m----> 1\u001b[1;33m \u001b[0mpara\u001b[0m \u001b[1;33m=\u001b[0m \u001b[0mmodel\u001b[0m\u001b[1;33m(\u001b[0m\u001b[0mx\u001b[0m\u001b[1;33m,\u001b[0m \u001b[0my\u001b[0m\u001b[1;33m,\u001b[0m \u001b[0mlayer_dim\u001b[0m\u001b[1;33m,\u001b[0m \u001b[1;36m0.008\u001b[0m\u001b[1;33m,\u001b[0m \u001b[1;36m10000\u001b[0m\u001b[1;33m,\u001b[0m \u001b[0mlambd\u001b[0m \u001b[1;33m=\u001b[0m \u001b[1;36m0.8\u001b[0m\u001b[1;33m)\u001b[0m\u001b[1;33m\u001b[0m\u001b[1;33m\u001b[0m\u001b[0m\n\u001b[0m",
      "\u001b[1;32m<ipython-input-200-7bb28aaac219>\u001b[0m in \u001b[0;36mmodel\u001b[1;34m(X, Y, layer_dimensions, learning_rate, iterations, lambd)\u001b[0m\n\u001b[0;32m      6\u001b[0m \u001b[1;33m\u001b[0m\u001b[0m\n\u001b[0;32m      7\u001b[0m     \u001b[1;32mfor\u001b[0m \u001b[0mi\u001b[0m \u001b[1;32min\u001b[0m \u001b[0mrange\u001b[0m\u001b[1;33m(\u001b[0m\u001b[0miterations\u001b[0m\u001b[1;33m)\u001b[0m\u001b[1;33m:\u001b[0m\u001b[1;33m\u001b[0m\u001b[1;33m\u001b[0m\u001b[0m\n\u001b[1;32m----> 8\u001b[1;33m         \u001b[0mA3\u001b[0m\u001b[1;33m,\u001b[0m \u001b[0mcache\u001b[0m \u001b[1;33m=\u001b[0m \u001b[0mforward_propagation\u001b[0m\u001b[1;33m(\u001b[0m\u001b[0mX\u001b[0m\u001b[1;33m,\u001b[0m \u001b[0mparameters\u001b[0m\u001b[1;33m)\u001b[0m\u001b[1;33m\u001b[0m\u001b[1;33m\u001b[0m\u001b[0m\n\u001b[0m\u001b[0;32m      9\u001b[0m         \u001b[0mcost\u001b[0m \u001b[1;33m=\u001b[0m \u001b[0mcompute_cost\u001b[0m\u001b[1;33m(\u001b[0m\u001b[0mY\u001b[0m\u001b[1;33m,\u001b[0m \u001b[0mA3\u001b[0m\u001b[1;33m,\u001b[0m \u001b[0mparameters\u001b[0m\u001b[1;33m,\u001b[0m \u001b[0mlambd\u001b[0m\u001b[1;33m)\u001b[0m\u001b[1;33m\u001b[0m\u001b[1;33m\u001b[0m\u001b[0m\n\u001b[0;32m     10\u001b[0m         \u001b[0mgrads\u001b[0m \u001b[1;33m=\u001b[0m \u001b[0mbackward_propagation\u001b[0m\u001b[1;33m(\u001b[0m\u001b[0mX\u001b[0m\u001b[1;33m,\u001b[0m \u001b[0mY\u001b[0m\u001b[1;33m,\u001b[0m \u001b[0mcache\u001b[0m\u001b[1;33m,\u001b[0m \u001b[0mparameters\u001b[0m\u001b[1;33m,\u001b[0m \u001b[0mlambd\u001b[0m\u001b[1;33m)\u001b[0m\u001b[1;33m\u001b[0m\u001b[1;33m\u001b[0m\u001b[0m\n",
      "\u001b[1;32m<ipython-input-155-6502ebbbcbe9>\u001b[0m in \u001b[0;36mforward_propagation\u001b[1;34m(X, parameters)\u001b[0m\n\u001b[0;32m      8\u001b[0m     \u001b[0mb3\u001b[0m \u001b[1;33m=\u001b[0m \u001b[0mparameters\u001b[0m\u001b[1;33m[\u001b[0m\u001b[1;34m'b3'\u001b[0m\u001b[1;33m]\u001b[0m\u001b[1;33m\u001b[0m\u001b[1;33m\u001b[0m\u001b[0m\n\u001b[0;32m      9\u001b[0m \u001b[1;33m\u001b[0m\u001b[0m\n\u001b[1;32m---> 10\u001b[1;33m     \u001b[0mZ1\u001b[0m \u001b[1;33m=\u001b[0m \u001b[0mnp\u001b[0m\u001b[1;33m.\u001b[0m\u001b[0mdot\u001b[0m\u001b[1;33m(\u001b[0m\u001b[0mW1\u001b[0m\u001b[1;33m,\u001b[0m \u001b[0mX\u001b[0m\u001b[1;33m)\u001b[0m \u001b[1;33m+\u001b[0m \u001b[0mb1\u001b[0m\u001b[1;33m\u001b[0m\u001b[1;33m\u001b[0m\u001b[0m\n\u001b[0m\u001b[0;32m     11\u001b[0m     \u001b[0mA1\u001b[0m \u001b[1;33m=\u001b[0m \u001b[0mrelu\u001b[0m\u001b[1;33m(\u001b[0m\u001b[0mZ1\u001b[0m\u001b[1;33m)\u001b[0m\u001b[1;33m\u001b[0m\u001b[1;33m\u001b[0m\u001b[0m\n\u001b[0;32m     12\u001b[0m     \u001b[0mZ2\u001b[0m \u001b[1;33m=\u001b[0m \u001b[0mnp\u001b[0m\u001b[1;33m.\u001b[0m\u001b[0mdot\u001b[0m\u001b[1;33m(\u001b[0m\u001b[0mW2\u001b[0m\u001b[1;33m,\u001b[0m \u001b[0mA1\u001b[0m\u001b[1;33m)\u001b[0m \u001b[1;33m+\u001b[0m \u001b[0mb2\u001b[0m\u001b[1;33m\u001b[0m\u001b[1;33m\u001b[0m\u001b[0m\n",
      "\u001b[1;32m<__array_function__ internals>\u001b[0m in \u001b[0;36mdot\u001b[1;34m(*args, **kwargs)\u001b[0m\n",
      "\u001b[1;31mKeyboardInterrupt\u001b[0m: "
     ]
    }
   ],
   "source": [
    "para = model(x, y, layer_dim, 0.008, 10000, lambd = 0.8)"
   ]
  },
  {
   "cell_type": "code",
   "execution_count": 218,
   "metadata": {},
   "outputs": [],
   "source": [
    "a3, _ = forward_propagation(x, para)\n",
    "a3_test, _ = forward_propagation(x_test, para)"
   ]
  },
  {
   "cell_type": "code",
   "execution_count": 33,
   "metadata": {},
   "outputs": [],
   "source": [
    "def predict(A3, Y, parameters):\n",
    "\n",
    "    m = A3.shape[1]\n",
    "    n = len(parameters) // 2 \n",
    "    p = np.zeros((1,m))\n",
    "    \n",
    "\n",
    "    for i in range(0, A3.shape[1]):\n",
    "        if A3[0,i] > 0.5:\n",
    "            p[0,i] = 1\n",
    "        else:\n",
    "            p[0,i] = 0\n",
    "    \n",
    "    print(\"Accuracy: \"  + str(np.sum((p == Y)/m)))\n",
    "        \n",
    "    return p"
   ]
  },
  {
   "cell_type": "code",
   "execution_count": 219,
   "metadata": {},
   "outputs": [
    {
     "name": "stdout",
     "output_type": "stream",
     "text": [
      "Accuracy: 0.9999999999999998\n",
      "Accuracy: 0.3400000000000001\n"
     ]
    }
   ],
   "source": [
    "preditction_train = predict(a3, y, para)\n",
    "prediction_test = predict(a3_test, y_test, para)"
   ]
  },
  {
   "cell_type": "code",
   "execution_count": 224,
   "metadata": {},
   "outputs": [
    {
     "data": {
      "text/plain": [
       "(array([[0.09377708, 0.05263986, 0.01823401, 0.0815813 , 0.05250223,\n",
       "         0.01703311, 0.06003271, 0.04052315, 0.00877709, 0.04939296,\n",
       "         0.03404341, 0.01021964, 0.05009573, 0.06226629, 0.02197579,\n",
       "         0.07256279, 0.05315119, 0.00808184, 0.0809952 , 0.03466802,\n",
       "         0.00866693, 0.04069036, 0.06924376, 0.01335105, 0.03638862,\n",
       "         0.10643341, 0.01279572, 0.05128548, 0.17666575, 0.02375618,\n",
       "         0.05503652, 0.16954792, 0.01670585, 0.03111611, 0.07444345,\n",
       "         0.02556668, 0.06695237, 0.06980081, 0.02518984, 0.12779151,\n",
       "         0.10377407, 0.0437681 , 0.21850567, 0.09061706, 0.02178376,\n",
       "         0.20660939, 0.04674611, 0.01081852, 0.13154232, 0.0787438 ]]),\n",
       " array([[1.26297663e-01, 1.02448505e-02, 7.81570640e-01, 1.71206027e-02,\n",
       "         3.00674276e-02, 1.60988958e-01, 4.27867960e-03, 7.48437848e-01,\n",
       "         1.64160948e-01, 7.02720074e-04, 1.53691323e-01, 9.19868034e-01,\n",
       "         8.02606695e-03, 8.80163976e-01, 9.48632948e-01, 5.92181462e-03,\n",
       "         1.57709185e-01, 2.11273390e-02, 7.28556735e-03, 7.98121738e-01,\n",
       "         5.19767169e-03, 1.59713621e-02, 1.60160391e-01, 9.02896373e-03,\n",
       "         9.49808644e-01, 8.66593038e-01, 1.55139582e-01, 9.68900390e-01,\n",
       "         8.98727869e-02, 8.31317772e-01, 4.77200794e-02, 3.70068767e-04,\n",
       "         3.13279519e-02, 4.31167179e-04, 3.19231912e-05, 2.92320971e-02,\n",
       "         3.62098842e-04, 3.03804826e-04, 9.44999932e-01, 6.99985713e-02,\n",
       "         1.25399017e-03, 9.69272266e-01, 9.02062965e-01, 6.28635596e-04,\n",
       "         1.38383865e-01, 2.62447680e-02, 4.12845570e-04, 9.26408857e-01,\n",
       "         1.60367876e-02, 5.39498316e-04, 8.92050853e-01, 5.46313812e-02,\n",
       "         2.20673333e-04, 1.35649463e-01, 9.29666678e-01, 4.26929861e-03,\n",
       "         9.50854037e-01, 9.95956821e-01, 1.20317535e-01, 9.68285574e-01,\n",
       "         9.92873943e-01, 8.64514275e-01, 7.99208425e-02, 1.99088188e-02,\n",
       "         8.48580459e-03, 2.69367017e-02, 1.80217356e-03, 4.72157576e-03,\n",
       "         9.45561753e-01, 1.38715401e-02, 8.43147841e-03, 9.68864115e-01,\n",
       "         5.19683085e-03, 5.49307861e-04, 2.23355188e-02, 1.11780381e-04,\n",
       "         3.52207462e-05, 1.08879856e-03, 6.11105416e-05, 6.71165460e-05,\n",
       "         3.16060488e-02, 1.28202982e-02, 7.64206000e-03, 9.28898754e-01,\n",
       "         9.21339869e-01, 1.20611196e-01, 6.03150694e-02, 7.08937831e-02,\n",
       "         7.36797224e-01, 5.89688487e-02, 2.09035237e-02, 2.31609568e-01,\n",
       "         8.78064803e-01, 9.13884198e-01, 9.59587171e-01, 7.70370527e-02,\n",
       "         9.61266527e-02, 9.00184184e-01, 4.98996261e-03, 1.94978022e-02,\n",
       "         2.02889242e-02, 3.95716117e-02, 7.81137260e-01, 1.12456495e-01,\n",
       "         9.22016803e-01, 2.40978021e-01, 9.54498760e-01, 9.95180184e-01,\n",
       "         9.67568787e-01, 9.77549662e-01, 9.86735605e-01, 9.57572306e-01,\n",
       "         2.17170535e-02, 1.79454723e-02, 7.90370968e-02, 9.47765127e-04,\n",
       "         1.56453012e-03, 8.64763311e-01, 5.83085427e-02, 1.87839471e-03,\n",
       "         9.03251141e-02, 8.99041483e-01, 5.95100893e-03, 7.17119396e-02,\n",
       "         9.08713668e-01, 1.32854165e-01, 9.43183682e-01, 1.67292600e-01,\n",
       "         7.57453764e-01, 9.05131020e-01, 3.43758891e-02, 1.45767815e-01,\n",
       "         1.47878648e-01, 9.31867401e-01, 9.77774861e-01, 9.07247021e-01,\n",
       "         9.86115622e-01, 9.43409578e-01, 5.38838556e-02, 7.35913283e-02,\n",
       "         1.14994013e-02, 3.63054716e-02, 9.32758132e-01, 1.15138826e-01,\n",
       "         8.33096194e-01, 9.98101516e-01, 9.68968756e-01, 1.40948953e-01,\n",
       "         9.76300955e-01, 9.29244156e-01, 6.58922520e-02, 2.04355047e-02,\n",
       "         3.93020690e-02, 9.19507604e-01, 8.52122063e-03, 1.03447390e-02,\n",
       "         9.46640716e-01, 1.42345578e-03, 2.17463471e-03, 1.09235697e-01,\n",
       "         1.27642659e-03, 6.69926528e-02, 8.54563696e-01, 9.86456279e-02,\n",
       "         8.15900186e-01, 1.33442089e-01, 8.84961789e-01, 2.14576599e-01,\n",
       "         3.68669098e-02, 9.43175722e-01, 8.61944734e-01, 9.46098559e-01,\n",
       "         1.69883526e-01, 4.69299477e-02, 9.88861304e-01, 8.30746410e-01,\n",
       "         1.62355207e-01, 9.65576344e-01, 9.66803931e-02, 7.89979698e-01,\n",
       "         3.57045816e-02, 6.31239748e-04, 1.32016101e-01, 1.36028959e-03,\n",
       "         1.16009273e-03, 9.07881024e-01, 1.20560776e-02, 3.47569528e-03,\n",
       "         9.13046834e-01, 9.54700727e-02, 8.52444704e-04, 1.37421194e-01,\n",
       "         6.97022245e-01, 1.93395764e-03, 1.72011473e-01, 5.53516246e-02,\n",
       "         9.09619061e-03, 8.77549459e-01, 1.37408099e-02, 1.06915874e-01,\n",
       "         8.50461238e-01, 5.68958769e-04, 1.63894304e-03, 7.50078425e-02,\n",
       "         1.04102138e-04, 2.89360369e-03, 1.11758035e-02, 4.45030305e-05,\n",
       "         7.94114532e-04]]))"
      ]
     },
     "execution_count": 224,
     "metadata": {},
     "output_type": "execute_result"
    }
   ],
   "source": []
  },
  {
   "cell_type": "code",
   "execution_count": null,
   "metadata": {},
   "outputs": [],
   "source": []
  }
 ],
 "metadata": {
  "kernelspec": {
   "display_name": "Python 3",
   "language": "python",
   "name": "python3"
  },
  "language_info": {
   "codemirror_mode": {
    "name": "ipython",
    "version": 3
   },
   "file_extension": ".py",
   "mimetype": "text/x-python",
   "name": "python",
   "nbconvert_exporter": "python",
   "pygments_lexer": "ipython3",
   "version": "3.7.6"
  }
 },
 "nbformat": 4,
 "nbformat_minor": 4
}
